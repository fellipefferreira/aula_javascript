{
  "nbformat": 4,
  "nbformat_minor": 0,
  "metadata": {
    "colab": {
      "provenance": [],
      "include_colab_link": true
    },
    "kernelspec": {
      "name": "python3",
      "display_name": "Python 3"
    },
    "language_info": {
      "name": "python"
    }
  },
  "cells": [
    {
      "cell_type": "markdown",
      "metadata": {
        "id": "view-in-github",
        "colab_type": "text"
      },
      "source": [
        "<a href=\"https://colab.research.google.com/github/fellipefferreira/web-dev-2semestre/blob/main/regressao_polinomial.ipynb\" target=\"_parent\"><img src=\"https://colab.research.google.com/assets/colab-badge.svg\" alt=\"Open In Colab\"/></a>"
      ]
    },
    {
      "cell_type": "markdown",
      "metadata": {
        "id": "LG3riz6Ut5X0"
      },
      "source": [
        "# **REGRESSÃO POLINOMIAL**"
      ]
    },
    {
      "cell_type": "code",
      "metadata": {
        "id": "PGFJHjk0tttU"
      },
      "source": [
        "import numpy as np\n",
        "import pandas as pd"
      ],
      "execution_count": null,
      "outputs": []
    },
    {
      "cell_type": "code",
      "source": [
        "from google.colab import drive\n",
        "drive.mount('/content/drive')"
      ],
      "metadata": {
        "id": "fsjo7mWTDlBh",
        "colab": {
          "base_uri": "https://localhost:8080/"
        },
        "outputId": "1ac57287-16c2-4c62-a2bd-61d04540a372"
      },
      "execution_count": null,
      "outputs": [
        {
          "output_type": "stream",
          "name": "stdout",
          "text": [
            "Mounted at /content/drive\n"
          ]
        }
      ]
    },
    {
      "cell_type": "code",
      "metadata": {
        "id": "wLMmk6o8uEae"
      },
      "source": [
        "vendas = pd.read_excel('/content/drive/MyDrive/Colab Notebooks/comissao.xlsx')"
      ],
      "execution_count": 7,
      "outputs": []
    },
    {
      "cell_type": "markdown",
      "metadata": {
        "id": "FyUUGTpzykQ7"
      },
      "source": [
        "## **ANÁLISE INICIAL**"
      ]
    },
    {
      "cell_type": "code",
      "metadata": {
        "id": "GlPMHCa5ulBQ",
        "colab": {
          "base_uri": "https://localhost:8080/",
          "height": 206
        },
        "outputId": "f7e094fd-d3b3-4233-dae0-125b95a52581"
      },
      "source": [
        "vendas.head()"
      ],
      "execution_count": 8,
      "outputs": [
        {
          "output_type": "execute_result",
          "data": {
            "text/plain": [
              "   quantidade  comissao\n",
              "0           1       728\n",
              "1           2       762\n",
              "2           3       802\n",
              "3           4       848\n",
              "4           5       900"
            ],
            "text/html": [
              "\n",
              "  <div id=\"df-da1dd492-e7b7-47ff-82fb-cef214892468\" class=\"colab-df-container\">\n",
              "    <div>\n",
              "<style scoped>\n",
              "    .dataframe tbody tr th:only-of-type {\n",
              "        vertical-align: middle;\n",
              "    }\n",
              "\n",
              "    .dataframe tbody tr th {\n",
              "        vertical-align: top;\n",
              "    }\n",
              "\n",
              "    .dataframe thead th {\n",
              "        text-align: right;\n",
              "    }\n",
              "</style>\n",
              "<table border=\"1\" class=\"dataframe\">\n",
              "  <thead>\n",
              "    <tr style=\"text-align: right;\">\n",
              "      <th></th>\n",
              "      <th>quantidade</th>\n",
              "      <th>comissao</th>\n",
              "    </tr>\n",
              "  </thead>\n",
              "  <tbody>\n",
              "    <tr>\n",
              "      <th>0</th>\n",
              "      <td>1</td>\n",
              "      <td>728</td>\n",
              "    </tr>\n",
              "    <tr>\n",
              "      <th>1</th>\n",
              "      <td>2</td>\n",
              "      <td>762</td>\n",
              "    </tr>\n",
              "    <tr>\n",
              "      <th>2</th>\n",
              "      <td>3</td>\n",
              "      <td>802</td>\n",
              "    </tr>\n",
              "    <tr>\n",
              "      <th>3</th>\n",
              "      <td>4</td>\n",
              "      <td>848</td>\n",
              "    </tr>\n",
              "    <tr>\n",
              "      <th>4</th>\n",
              "      <td>5</td>\n",
              "      <td>900</td>\n",
              "    </tr>\n",
              "  </tbody>\n",
              "</table>\n",
              "</div>\n",
              "    <div class=\"colab-df-buttons\">\n",
              "\n",
              "  <div class=\"colab-df-container\">\n",
              "    <button class=\"colab-df-convert\" onclick=\"convertToInteractive('df-da1dd492-e7b7-47ff-82fb-cef214892468')\"\n",
              "            title=\"Convert this dataframe to an interactive table.\"\n",
              "            style=\"display:none;\">\n",
              "\n",
              "  <svg xmlns=\"http://www.w3.org/2000/svg\" height=\"24px\" viewBox=\"0 -960 960 960\">\n",
              "    <path d=\"M120-120v-720h720v720H120Zm60-500h600v-160H180v160Zm220 220h160v-160H400v160Zm0 220h160v-160H400v160ZM180-400h160v-160H180v160Zm440 0h160v-160H620v160ZM180-180h160v-160H180v160Zm440 0h160v-160H620v160Z\"/>\n",
              "  </svg>\n",
              "    </button>\n",
              "\n",
              "  <style>\n",
              "    .colab-df-container {\n",
              "      display:flex;\n",
              "      gap: 12px;\n",
              "    }\n",
              "\n",
              "    .colab-df-convert {\n",
              "      background-color: #E8F0FE;\n",
              "      border: none;\n",
              "      border-radius: 50%;\n",
              "      cursor: pointer;\n",
              "      display: none;\n",
              "      fill: #1967D2;\n",
              "      height: 32px;\n",
              "      padding: 0 0 0 0;\n",
              "      width: 32px;\n",
              "    }\n",
              "\n",
              "    .colab-df-convert:hover {\n",
              "      background-color: #E2EBFA;\n",
              "      box-shadow: 0px 1px 2px rgba(60, 64, 67, 0.3), 0px 1px 3px 1px rgba(60, 64, 67, 0.15);\n",
              "      fill: #174EA6;\n",
              "    }\n",
              "\n",
              "    .colab-df-buttons div {\n",
              "      margin-bottom: 4px;\n",
              "    }\n",
              "\n",
              "    [theme=dark] .colab-df-convert {\n",
              "      background-color: #3B4455;\n",
              "      fill: #D2E3FC;\n",
              "    }\n",
              "\n",
              "    [theme=dark] .colab-df-convert:hover {\n",
              "      background-color: #434B5C;\n",
              "      box-shadow: 0px 1px 3px 1px rgba(0, 0, 0, 0.15);\n",
              "      filter: drop-shadow(0px 1px 2px rgba(0, 0, 0, 0.3));\n",
              "      fill: #FFFFFF;\n",
              "    }\n",
              "  </style>\n",
              "\n",
              "    <script>\n",
              "      const buttonEl =\n",
              "        document.querySelector('#df-da1dd492-e7b7-47ff-82fb-cef214892468 button.colab-df-convert');\n",
              "      buttonEl.style.display =\n",
              "        google.colab.kernel.accessAllowed ? 'block' : 'none';\n",
              "\n",
              "      async function convertToInteractive(key) {\n",
              "        const element = document.querySelector('#df-da1dd492-e7b7-47ff-82fb-cef214892468');\n",
              "        const dataTable =\n",
              "          await google.colab.kernel.invokeFunction('convertToInteractive',\n",
              "                                                    [key], {});\n",
              "        if (!dataTable) return;\n",
              "\n",
              "        const docLinkHtml = 'Like what you see? Visit the ' +\n",
              "          '<a target=\"_blank\" href=https://colab.research.google.com/notebooks/data_table.ipynb>data table notebook</a>'\n",
              "          + ' to learn more about interactive tables.';\n",
              "        element.innerHTML = '';\n",
              "        dataTable['output_type'] = 'display_data';\n",
              "        await google.colab.output.renderOutput(dataTable, element);\n",
              "        const docLink = document.createElement('div');\n",
              "        docLink.innerHTML = docLinkHtml;\n",
              "        element.appendChild(docLink);\n",
              "      }\n",
              "    </script>\n",
              "  </div>\n",
              "\n",
              "\n",
              "<div id=\"df-febf089f-cb66-4115-ab8b-152d50f37cc6\">\n",
              "  <button class=\"colab-df-quickchart\" onclick=\"quickchart('df-febf089f-cb66-4115-ab8b-152d50f37cc6')\"\n",
              "            title=\"Suggest charts\"\n",
              "            style=\"display:none;\">\n",
              "\n",
              "<svg xmlns=\"http://www.w3.org/2000/svg\" height=\"24px\"viewBox=\"0 0 24 24\"\n",
              "     width=\"24px\">\n",
              "    <g>\n",
              "        <path d=\"M19 3H5c-1.1 0-2 .9-2 2v14c0 1.1.9 2 2 2h14c1.1 0 2-.9 2-2V5c0-1.1-.9-2-2-2zM9 17H7v-7h2v7zm4 0h-2V7h2v10zm4 0h-2v-4h2v4z\"/>\n",
              "    </g>\n",
              "</svg>\n",
              "  </button>\n",
              "\n",
              "<style>\n",
              "  .colab-df-quickchart {\n",
              "      --bg-color: #E8F0FE;\n",
              "      --fill-color: #1967D2;\n",
              "      --hover-bg-color: #E2EBFA;\n",
              "      --hover-fill-color: #174EA6;\n",
              "      --disabled-fill-color: #AAA;\n",
              "      --disabled-bg-color: #DDD;\n",
              "  }\n",
              "\n",
              "  [theme=dark] .colab-df-quickchart {\n",
              "      --bg-color: #3B4455;\n",
              "      --fill-color: #D2E3FC;\n",
              "      --hover-bg-color: #434B5C;\n",
              "      --hover-fill-color: #FFFFFF;\n",
              "      --disabled-bg-color: #3B4455;\n",
              "      --disabled-fill-color: #666;\n",
              "  }\n",
              "\n",
              "  .colab-df-quickchart {\n",
              "    background-color: var(--bg-color);\n",
              "    border: none;\n",
              "    border-radius: 50%;\n",
              "    cursor: pointer;\n",
              "    display: none;\n",
              "    fill: var(--fill-color);\n",
              "    height: 32px;\n",
              "    padding: 0;\n",
              "    width: 32px;\n",
              "  }\n",
              "\n",
              "  .colab-df-quickchart:hover {\n",
              "    background-color: var(--hover-bg-color);\n",
              "    box-shadow: 0 1px 2px rgba(60, 64, 67, 0.3), 0 1px 3px 1px rgba(60, 64, 67, 0.15);\n",
              "    fill: var(--button-hover-fill-color);\n",
              "  }\n",
              "\n",
              "  .colab-df-quickchart-complete:disabled,\n",
              "  .colab-df-quickchart-complete:disabled:hover {\n",
              "    background-color: var(--disabled-bg-color);\n",
              "    fill: var(--disabled-fill-color);\n",
              "    box-shadow: none;\n",
              "  }\n",
              "\n",
              "  .colab-df-spinner {\n",
              "    border: 2px solid var(--fill-color);\n",
              "    border-color: transparent;\n",
              "    border-bottom-color: var(--fill-color);\n",
              "    animation:\n",
              "      spin 1s steps(1) infinite;\n",
              "  }\n",
              "\n",
              "  @keyframes spin {\n",
              "    0% {\n",
              "      border-color: transparent;\n",
              "      border-bottom-color: var(--fill-color);\n",
              "      border-left-color: var(--fill-color);\n",
              "    }\n",
              "    20% {\n",
              "      border-color: transparent;\n",
              "      border-left-color: var(--fill-color);\n",
              "      border-top-color: var(--fill-color);\n",
              "    }\n",
              "    30% {\n",
              "      border-color: transparent;\n",
              "      border-left-color: var(--fill-color);\n",
              "      border-top-color: var(--fill-color);\n",
              "      border-right-color: var(--fill-color);\n",
              "    }\n",
              "    40% {\n",
              "      border-color: transparent;\n",
              "      border-right-color: var(--fill-color);\n",
              "      border-top-color: var(--fill-color);\n",
              "    }\n",
              "    60% {\n",
              "      border-color: transparent;\n",
              "      border-right-color: var(--fill-color);\n",
              "    }\n",
              "    80% {\n",
              "      border-color: transparent;\n",
              "      border-right-color: var(--fill-color);\n",
              "      border-bottom-color: var(--fill-color);\n",
              "    }\n",
              "    90% {\n",
              "      border-color: transparent;\n",
              "      border-bottom-color: var(--fill-color);\n",
              "    }\n",
              "  }\n",
              "</style>\n",
              "\n",
              "  <script>\n",
              "    async function quickchart(key) {\n",
              "      const quickchartButtonEl =\n",
              "        document.querySelector('#' + key + ' button');\n",
              "      quickchartButtonEl.disabled = true;  // To prevent multiple clicks.\n",
              "      quickchartButtonEl.classList.add('colab-df-spinner');\n",
              "      try {\n",
              "        const charts = await google.colab.kernel.invokeFunction(\n",
              "            'suggestCharts', [key], {});\n",
              "      } catch (error) {\n",
              "        console.error('Error during call to suggestCharts:', error);\n",
              "      }\n",
              "      quickchartButtonEl.classList.remove('colab-df-spinner');\n",
              "      quickchartButtonEl.classList.add('colab-df-quickchart-complete');\n",
              "    }\n",
              "    (() => {\n",
              "      let quickchartButtonEl =\n",
              "        document.querySelector('#df-febf089f-cb66-4115-ab8b-152d50f37cc6 button');\n",
              "      quickchartButtonEl.style.display =\n",
              "        google.colab.kernel.accessAllowed ? 'block' : 'none';\n",
              "    })();\n",
              "  </script>\n",
              "</div>\n",
              "\n",
              "    </div>\n",
              "  </div>\n"
            ],
            "application/vnd.google.colaboratory.intrinsic+json": {
              "type": "dataframe",
              "variable_name": "vendas",
              "summary": "{\n  \"name\": \"vendas\",\n  \"rows\": 50,\n  \"fields\": [\n    {\n      \"column\": \"quantidade\",\n      \"properties\": {\n        \"dtype\": \"number\",\n        \"std\": 14,\n        \"min\": 1,\n        \"max\": 50,\n        \"num_unique_values\": 50,\n        \"samples\": [\n          14,\n          40,\n          31\n        ],\n        \"semantic_type\": \"\",\n        \"description\": \"\"\n      }\n    },\n    {\n      \"column\": \"comissao\",\n      \"properties\": {\n        \"dtype\": \"number\",\n        \"std\": 2655,\n        \"min\": 728,\n        \"max\": 9450,\n        \"num_unique_values\": 50,\n        \"samples\": [\n          1638,\n          6500,\n          4358\n        ],\n        \"semantic_type\": \"\",\n        \"description\": \"\"\n      }\n    }\n  ]\n}"
            }
          },
          "metadata": {},
          "execution_count": 8
        }
      ]
    },
    {
      "cell_type": "code",
      "metadata": {
        "id": "4rQom71wY2Sh",
        "colab": {
          "base_uri": "https://localhost:8080/"
        },
        "outputId": "a94b739e-f0f1-42a2-cda0-3d5ff6fa3391"
      },
      "source": [
        "vendas.shape"
      ],
      "execution_count": 9,
      "outputs": [
        {
          "output_type": "execute_result",
          "data": {
            "text/plain": [
              "(50, 2)"
            ]
          },
          "metadata": {},
          "execution_count": 9
        }
      ]
    },
    {
      "cell_type": "code",
      "metadata": {
        "id": "5u58CPhzZFPQ",
        "colab": {
          "base_uri": "https://localhost:8080/"
        },
        "outputId": "0736d355-5e98-47fb-bc38-bd04884d65b6"
      },
      "source": [
        "vendas.dtypes"
      ],
      "execution_count": 10,
      "outputs": [
        {
          "output_type": "execute_result",
          "data": {
            "text/plain": [
              "quantidade    int64\n",
              "comissao      int64\n",
              "dtype: object"
            ]
          },
          "metadata": {},
          "execution_count": 10
        }
      ]
    },
    {
      "cell_type": "code",
      "metadata": {
        "id": "flOfAZcjaRo3"
      },
      "source": [
        "#  Mudando para float pois a comissão é numero dividido\n",
        "\n",
        "vendas = vendas.astype({\"comissao\": float})"
      ],
      "execution_count": 11,
      "outputs": []
    },
    {
      "cell_type": "code",
      "metadata": {
        "id": "qRrstGM5aaAe",
        "colab": {
          "base_uri": "https://localhost:8080/"
        },
        "outputId": "1dd56398-e05f-401f-86d3-182528dc0a82"
      },
      "source": [
        "vendas.dtypes"
      ],
      "execution_count": 12,
      "outputs": [
        {
          "output_type": "execute_result",
          "data": {
            "text/plain": [
              "quantidade      int64\n",
              "comissao      float64\n",
              "dtype: object"
            ]
          },
          "metadata": {},
          "execution_count": 12
        }
      ]
    },
    {
      "cell_type": "code",
      "metadata": {
        "id": "Gc7UtQStbzD0"
      },
      "source": [
        "import matplotlib.pyplot as plt"
      ],
      "execution_count": 13,
      "outputs": []
    },
    {
      "cell_type": "code",
      "metadata": {
        "id": "9iGcxP_nb0aT",
        "colab": {
          "base_uri": "https://localhost:8080/",
          "height": 472
        },
        "outputId": "0809b6e9-b9b4-4239-b9c1-04bc0b189a12"
      },
      "source": [
        "plt.scatter(vendas.quantidade, vendas.comissao)\n",
        "plt.title('Correlação')\n",
        "plt.xlabel('Quantidade')\n",
        "plt.ylabel('Comissão')\n",
        "plt.grid(True)\n",
        "plt.show()"
      ],
      "execution_count": 14,
      "outputs": [
        {
          "output_type": "display_data",
          "data": {
            "text/plain": [
              "<Figure size 640x480 with 1 Axes>"
            ],
            "image/png": "[encoded data removed]"
          },
          "metadata": {}
        }
      ]
    },
    {
      "cell_type": "markdown",
      "metadata": {
        "id": "cmeit_na_AzG"
      },
      "source": [
        "**Regressão Linear**"
      ]
    },
    {
      "cell_type": "code",
      "metadata": {
        "id": "zFuMSGRTG0Nd"
      },
      "source": [
        "import statsmodels.formula.api as smf\n",
        "import statsmodels.stats.api as sms"
      ],
      "execution_count": 15,
      "outputs": []
    },
    {
      "cell_type": "code",
      "metadata": {
        "id": "MeznMmquUZk9"
      },
      "source": [
        "# Criação do modelo\n",
        "# ols - regrassão linear\n",
        "regressao = smf.ols('comissao ~ quantidade', data = vendas).fit()"
      ],
      "execution_count": 16,
      "outputs": []
    },
    {
      "cell_type": "code",
      "metadata": {
        "id": "mv1ZxbnpP8Fv",
        "colab": {
          "base_uri": "https://localhost:8080/"
        },
        "outputId": "7991fb3e-bcc7-467e-c7b3-b76544a0239b"
      },
      "source": [
        "print(regressao.summary())"
      ],
      "execution_count": 17,
      "outputs": [
        {
          "output_type": "stream",
          "name": "stdout",
          "text": [
            "                            OLS Regression Results                            \n",
            "==============================================================================\n",
            "Dep. Variable:               comissao   R-squared:                       0.955\n",
            "Model:                            OLS   Adj. R-squared:                  0.954\n",
            "Method:                 Least Squares   F-statistic:                     1016.\n",
            "Date:                Tue, 26 Mar 2024   Prob (F-statistic):           5.98e-34\n",
            "Time:                        14:03:23   Log-Likelihood:                -387.21\n",
            "No. Observations:                  50   AIC:                             778.4\n",
            "Df Residuals:                      48   BIC:                             782.2\n",
            "Df Model:                           1                                         \n",
            "Covariance Type:            nonrobust                                         \n",
            "==============================================================================\n",
            "                 coef    std err          t      P>|t|      [0.025      0.975]\n",
            "------------------------------------------------------------------------------\n",
            "Intercept   -626.0000    163.662     -3.825      0.000    -955.064    -296.936\n",
            "quantidade   178.0000      5.586     31.867      0.000     166.769     189.231\n",
            "==============================================================================\n",
            "Omnibus:                        6.733   Durbin-Watson:                   0.023\n",
            "Prob(Omnibus):                  0.035   Jarque-Bera (JB):                4.932\n",
            "Skew:                           0.635   Prob(JB):                       0.0849\n",
            "Kurtosis:                       2.133   Cond. No.                         59.5\n",
            "==============================================================================\n",
            "\n",
            "Notes:\n",
            "[1] Standard Errors assume that the covariance matrix of the errors is correctly specified.\n"
          ]
        }
      ]
    },
    {
      "cell_type": "code",
      "metadata": {
        "id": "0i9NihbRdxBD",
        "colab": {
          "base_uri": "https://localhost:8080/"
        },
        "outputId": "02d3379c-5153-4b54-c7e8-a303ba393bc8"
      },
      "source": [
        "regressao.params"
      ],
      "execution_count": 18,
      "outputs": [
        {
          "output_type": "execute_result",
          "data": {
            "text/plain": [
              "Intercept    -626.0\n",
              "quantidade    178.0\n",
              "dtype: float64"
            ]
          },
          "metadata": {},
          "execution_count": 18
        }
      ]
    },
    {
      "cell_type": "markdown",
      "metadata": {
        "id": "-ntti1sDhA48"
      },
      "source": [
        "**Equação: Comissão = -626 + 178.quantidade**\n",
        "\n",
        "**R^2 ajustado = 0,954**"
      ]
    },
    {
      "cell_type": "code",
      "metadata": {
        "id": "81MFubtdRw-A",
        "colab": {
          "base_uri": "https://localhost:8080/",
          "height": 472
        },
        "outputId": "bbe9b991-301d-41f3-8833-b1740cc1cb4b"
      },
      "source": [
        "plt.scatter(y=vendas.comissao, x=vendas.quantidade, color='blue', s=50, alpha=0.6)\n",
        "X_plot = np.linspace(0, 70)\n",
        "plt.plot(X_plot, X_plot*regressao.params[1] + regressao.params[0], color='y')\n",
        "plt.title('Reta de regressão')\n",
        "plt.ylabel('COMISSÃO')\n",
        "plt.xlabel('QUANTIDADE')\n",
        "plt.show()"
      ],
      "execution_count": 21,
      "outputs": [
        {
          "output_type": "display_data",
          "data": {
            "text/plain": [
              "<Figure size 640x480 with 1 Axes>"
            ],
            "image/png": "[encoded data removed]"
          },
          "metadata": {}
        }
      ]
    },
    {
      "cell_type": "markdown",
      "metadata": {
        "id": "DWAzlKsyVo6O"
      },
      "source": [
        "# **REGRESSÃO POLINOMIAL COM NUMPY - GRAU 2**"
      ]
    },
    {
      "cell_type": "markdown",
      "metadata": {
        "id": "frStkPtsWCn4"
      },
      "source": [
        "**y = b2.x^2 + b1.x + b0**"
      ]
    },
    {
      "cell_type": "code",
      "metadata": {
        "id": "ANTyVIMrVpPh"
      },
      "source": [
        "modelo2 = np.poly1d(np.polyfit(vendas.quantidade, vendas.comissao, 2))"
      ],
      "execution_count": 22,
      "outputs": []
    },
    {
      "cell_type": "code",
      "metadata": {
        "id": "m0iPXIhiWdDw",
        "colab": {
          "base_uri": "https://localhost:8080/"
        },
        "outputId": "a86de1b5-f9d0-43fc-8cba-6d6840a83ad9"
      },
      "source": [
        "y2 = modelo2(vendas.quantidade)\n",
        "y2"
      ],
      "execution_count": 23,
      "outputs": [
        {
          "output_type": "execute_result",
          "data": {
            "text/plain": [
              "array([ 728.,  762.,  802.,  848.,  900.,  958., 1022., 1092., 1168.,\n",
              "       1250., 1338., 1432., 1532., 1638., 1750., 1868., 1992., 2122.,\n",
              "       2258., 2400., 2548., 2702., 2862., 3028., 3200., 3378., 3562.,\n",
              "       3752., 3948., 4150., 4358., 4572., 4792., 5018., 5250., 5488.,\n",
              "       5732., 5982., 6238., 6500., 6768., 7042., 7322., 7608., 7900.,\n",
              "       8198., 8502., 8812., 9128., 9450.])"
            ]
          },
          "metadata": {},
          "execution_count": 23
        }
      ]
    },
    {
      "cell_type": "code",
      "metadata": {
        "id": "tVM1RDxFYWwG",
        "colab": {
          "base_uri": "https://localhost:8080/"
        },
        "outputId": "e553a5ea-a896-452f-8bbe-034cea580a4b"
      },
      "source": [
        "modelo2.coef"
      ],
      "execution_count": 24,
      "outputs": [
        {
          "output_type": "execute_result",
          "data": {
            "text/plain": [
              "array([  3.,  25., 700.])"
            ]
          },
          "metadata": {},
          "execution_count": 24
        }
      ]
    },
    {
      "cell_type": "code",
      "metadata": {
        "id": "2tS2tZhZZHZP",
        "colab": {
          "base_uri": "https://localhost:8080/"
        },
        "outputId": "a0ca62df-586a-466e-a1e6-d8bb04bc4ba0"
      },
      "source": [
        "print(\"Equação: COMISSÃO = {:.1f}*quantidade^2 + {:.1f}*quantidade + {:.1f}\".format(modelo2.coef[0], modelo2.coef[1], modelo2.coef[2]))"
      ],
      "execution_count": 25,
      "outputs": [
        {
          "output_type": "stream",
          "name": "stdout",
          "text": [
            "Equação: COMISSÃO = 3.0*quantidade^2 + 25.0*quantidade + 700.0\n"
          ]
        }
      ]
    },
    {
      "cell_type": "code",
      "metadata": {
        "id": "yg6E1pChWvEW",
        "colab": {
          "base_uri": "https://localhost:8080/",
          "height": 430
        },
        "outputId": "efb19359-640f-4f67-ca99-e9c45260840d"
      },
      "source": [
        "plt.scatter(vendas.quantidade, vendas.comissao)\n",
        "plt.plot(vendas.quantidade,y2,color='y');\n"
      ],
      "execution_count": 27,
      "outputs": [
        {
          "output_type": "display_data",
          "data": {
            "text/plain": [
              "<Figure size 640x480 with 1 Axes>"
            ],
            "image/png": "[encoded data removed]"
          },
          "metadata": {}
        }
      ]
    },
    {
      "cell_type": "code",
      "metadata": {
        "id": "SfgRPOaQCXj3",
        "colab": {
          "base_uri": "https://localhost:8080/"
        },
        "outputId": "0b34849c-e9dd-4cc2-efe3-39163dc30bfd"
      },
      "source": [
        "# Coeficiente de determinação\n",
        "np.corrcoef(modelo2)**2"
      ],
      "execution_count": 28,
      "outputs": [
        {
          "output_type": "execute_result",
          "data": {
            "text/plain": [
              "1.0"
            ]
          },
          "metadata": {},
          "execution_count": 28
        }
      ]
    },
    {
      "cell_type": "markdown",
      "metadata": {
        "id": "FE8muUCqb0Rb"
      },
      "source": [
        "# **REGRESSÃO POLINOMIAL COM NUMPY- GRAU 3**"
      ]
    },
    {
      "cell_type": "markdown",
      "metadata": {
        "id": "nZdAYy_Ab0Rd"
      },
      "source": [
        "**y = b3.x^3 + b2.x^2 + b1.x + b0**"
      ]
    },
    {
      "cell_type": "code",
      "metadata": {
        "id": "PrCagxZPb0Re"
      },
      "source": [
        "modelo3 = np.poly1d(np.polyfit(vendas.quantidade, vendas.comissao, 3))"
      ],
      "execution_count": 29,
      "outputs": []
    },
    {
      "cell_type": "code",
      "metadata": {
        "id": "cV3Rlei3b0Rf",
        "colab": {
          "base_uri": "https://localhost:8080/"
        },
        "outputId": "580bf8a9-5dbf-46cc-ba20-b301907d3eb7"
      },
      "source": [
        "y3 = modelo3(vendas.quantidade)\n",
        "y3"
      ],
      "execution_count": 30,
      "outputs": [
        {
          "output_type": "execute_result",
          "data": {
            "text/plain": [
              "array([ 728.,  762.,  802.,  848.,  900.,  958., 1022., 1092., 1168.,\n",
              "       1250., 1338., 1432., 1532., 1638., 1750., 1868., 1992., 2122.,\n",
              "       2258., 2400., 2548., 2702., 2862., 3028., 3200., 3378., 3562.,\n",
              "       3752., 3948., 4150., 4358., 4572., 4792., 5018., 5250., 5488.,\n",
              "       5732., 5982., 6238., 6500., 6768., 7042., 7322., 7608., 7900.,\n",
              "       8198., 8502., 8812., 9128., 9450.])"
            ]
          },
          "metadata": {},
          "execution_count": 30
        }
      ]
    },
    {
      "cell_type": "code",
      "metadata": {
        "id": "4Tta7ALBb0Rg",
        "colab": {
          "base_uri": "https://localhost:8080/"
        },
        "outputId": "d0549491-6e03-4079-ff22-0f682756a469"
      },
      "source": [
        "modelo3.coef"
      ],
      "execution_count": 31,
      "outputs": [
        {
          "output_type": "execute_result",
          "data": {
            "text/plain": [
              "array([3.78115434e-17, 3.00000000e+00, 2.50000000e+01, 7.00000000e+02])"
            ]
          },
          "metadata": {},
          "execution_count": 31
        }
      ]
    },
    {
      "cell_type": "code",
      "metadata": {
        "id": "7ClJM7K2b0Rh",
        "colab": {
          "base_uri": "https://localhost:8080/"
        },
        "outputId": "6dfd69b7-87b3-4234-dbf7-e4b8d5a8789a"
      },
      "source": [
        "print(\"Equação: COMISSÃO = {:.1f}*quantidade^3 + {:.1f}*quantidade^2 + {:.1f}*quantidade + {:.1f}\".format(modelo3.coef[3], modelo3.coef[2], modelo3.coef[1], modelo3.coef[0]))"
      ],
      "execution_count": 32,
      "outputs": [
        {
          "output_type": "stream",
          "name": "stdout",
          "text": [
            "Equação: COMISSÃO = 700.0*quantidade^3 + 25.0*quantidade^2 + 3.0*quantidade + 0.0\n"
          ]
        }
      ]
    },
    {
      "cell_type": "code",
      "metadata": {
        "id": "0ydb916bb0Ri",
        "colab": {
          "base_uri": "https://localhost:8080/",
          "height": 430
        },
        "outputId": "a510c294-735d-4c8e-cc29-4643312f6b23"
      },
      "source": [
        "plt.scatter(vendas.quantidade, vendas.comissao)\n",
        "plt.plot(vendas.quantidade,y3,color='y');"
      ],
      "execution_count": 35,
      "outputs": [
        {
          "output_type": "display_data",
          "data": {
            "text/plain": [
              "<Figure size 640x480 with 1 Axes>"
            ],
            "image/png": "[encoded data removed]"
          },
          "metadata": {}
        }
      ]
    },
    {
      "cell_type": "code",
      "metadata": {
        "id": "hK6ETK66D4JP",
        "colab": {
          "base_uri": "https://localhost:8080/"
        },
        "outputId": "ddf9c280-ce17-4205-f1c7-e9bba38acbdb"
      },
      "source": [
        "# Coeficiente de determinação\n",
        "np.corrcoef(modelo3)**2"
      ],
      "execution_count": 34,
      "outputs": [
        {
          "output_type": "execute_result",
          "data": {
            "text/plain": [
              "1.0"
            ]
          },
          "metadata": {},
          "execution_count": 34
        }
      ]
    }
  ]
}